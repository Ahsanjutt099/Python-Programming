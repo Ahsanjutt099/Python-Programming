{
 "cells": [
  {
   "cell_type": "code",
   "execution_count": 4,
   "id": "fc13f32f-2d50-4435-96e3-507312ef7818",
   "metadata": {},
   "outputs": [
    {
     "name": "stdout",
     "output_type": "stream",
     "text": [
      "Name: Ahsan\n",
      "Age: 18\n",
      "City: Manga Mandi\n"
     ]
    }
   ],
   "source": [
    "#Question no. 1\n",
    "class Person:\n",
    "    def __init__(self, name, age, city):\n",
    "        self.name = name\n",
    "        self.age = age\n",
    "        self.city = city\n",
    "\n",
    "    def describe_person(self):\n",
    "        print(f\"Name: {self.name}\\nAge: {self.age}\\nCity: {self.city}\")\n",
    "\n",
    "person1 = Person(\"Ahsan\", 18, \"Manga Mandi\")\n",
    "person1.describe_person()\n"
   ]
  },
  {
   "cell_type": "code",
   "execution_count": 10,
   "id": "ff6231b4-995a-422a-976c-6bc03b470c64",
   "metadata": {},
   "outputs": [
    {
     "name": "stdout",
     "output_type": "stream",
     "text": [
      "Make: Honda\n",
      "Model: Civic\n",
      "Year: 2016\n"
     ]
    }
   ],
   "source": [
    "# Question no.2\n",
    "class Car:\n",
    "    def __init__(self, make, model, year):\n",
    "        self.make = make\n",
    "        self.model = model\n",
    "        self.year = year\n",
    "\n",
    "    def describe_car(self):\n",
    "        return f\"Make: {self.make}\\nModel: {self.model}\\nYear: {self.year}\"\n",
    "\n",
    "car1 = Car(\"Honda\", \"Civic\", 2016)\n",
    "print(car1.describe_car())\n",
    "\n"
   ]
  },
  {
   "cell_type": "code",
   "execution_count": 12,
   "id": "450ac416-b3f3-4908-a9e0-1bce9c116c50",
   "metadata": {},
   "outputs": [
    {
     "name": "stdout",
     "output_type": "stream",
     "text": [
      "Radius: 10\n",
      "Area: 314.159\n",
      "Circumference: 62.8318\n"
     ]
    }
   ],
   "source": [
    "# Question no. 3\n",
    "class Circle :\n",
    "    def __init__ (self, radius) :\n",
    "        self.radius = radius\n",
    "    def circle_area (self) :\n",
    "        return (3.14159 * (self.radius ** 2))\n",
    "    def circle_circumference (self) :\n",
    "        return (2 * 3.14159 * self.radius)\n",
    "\n",
    "circle1 = Circle(10)\n",
    "print(f\"Radius: {circle1.radius}\\nArea: {circle1.circle_area()}\\nCircumference: {circle1.circle_circumference()}\")"
   ]
  },
  {
   "cell_type": "code",
   "execution_count": 14,
   "id": "9ad99b86-aa72-4183-b376-c3e344e03b13",
   "metadata": {},
   "outputs": [
    {
     "name": "stdout",
     "output_type": "stream",
     "text": [
      "Length: 10\n",
      "Width: 5\n",
      "Area: 50\n",
      "Perimeter: 30\n"
     ]
    }
   ],
   "source": [
    "# Question no. 4\n",
    "class Rectangle :\n",
    "    def __init__ (self, length, width) :\n",
    "        self.length = length\n",
    "        self.width = width\n",
    "    def rectangle_area (self) :\n",
    "        return (self.width * self.length)\n",
    "    def rectangle_perimeter (self) :\n",
    "        return ((self.length * 2) + (self.width * 2))\n",
    "\n",
    "rectangle1 = Rectangle(10, 5)\n",
    "print(f\"Length: {rectangle1.length}\\nWidth: {rectangle1.width}\\nArea: {rectangle1.rectangle_area()}\\nPerimeter: {rectangle1.rectangle_perimeter()}\")"
   ]
  },
  {
   "cell_type": "code",
   "execution_count": 24,
   "id": "719326d7-a912-4319-90dd-3b5c1204162a",
   "metadata": {},
   "outputs": [
    {
     "name": "stdout",
     "output_type": "stream",
     "text": [
      "Name: Ahsan\n",
      "Roll No: 99\n",
      "Average: 90.4\n"
     ]
    }
   ],
   "source": [
    "# Question no. 5\n",
    "class Student :\n",
    "    def __init__ (self, name, roll_number, *marks) :\n",
    "        self.name = name\n",
    "        self.roll_number = roll_number\n",
    "        self.marks = marks\n",
    "    def average_marks (self) :\n",
    "        total_marks = 0\n",
    "        no_of_marks = 0\n",
    "        for mark in self.marks :\n",
    "            total_marks += mark\n",
    "            no_of_marks += 1\n",
    "        return (total_marks / no_of_marks)\n",
    "    \n",
    "student1 = Student(\"Ahsan\", 99, 90, 92, 90, 90, 90)\n",
    "print(f\"Name: {student1.name}\\nRoll No: {student1.roll_number}\\nAverage: {student1.average_marks()}\")"
   ]
  },
  {
   "cell_type": "code",
   "execution_count": 26,
   "id": "2ed9fcc3-3b59-46e6-92e4-f57febf08d3c",
   "metadata": {},
   "outputs": [
    {
     "name": "stdout",
     "output_type": "stream",
     "text": [
      "Title = Rich Dad Poor Dad\n",
      "Author: Kiyosaki And Sharon Lechter\n",
      "Publication Year: 1997\n"
     ]
    }
   ],
   "source": [
    "# Question no. 6\n",
    "class Book :\n",
    "    def __init__ (self, title, author, publication_year) :\n",
    "        self.title = title\n",
    "        self.author = author\n",
    "        self.publication_year = publication_year\n",
    "    \n",
    "book1 = Book(\"Rich Dad Poor Dad\", \"Kiyosaki and Sharon Lechter\", 1997)\n",
    "print(f\"Title = {book1.title.title()}\\nAuthor: {book1.author.title()}\\nPublication Year: {book1.publication_year}\")\n"
   ]
  },
  {
   "cell_type": "code",
   "execution_count": 28,
   "id": "cf0c580d-bb6d-4c3b-97c5-f21e98f287b2",
   "metadata": {},
   "outputs": [
    {
     "name": "stdout",
     "output_type": "stream",
     "text": [
      "Name = Muhammad Usman\n",
      "Designation: Machine Operator\n",
      "Salary: 100000\n"
     ]
    }
   ],
   "source": [
    "# Question no. 7\n",
    "class Employee :\n",
    "    def __init__ (self, name, salary, designation) :\n",
    "        self.name = name\n",
    "        self.salary = salary\n",
    "        self.designation = designation\n",
    "    \n",
    "employee1 = Employee(\"Muhammad Usman\", 1_00_000, \"Machine Operator\")\n",
    "print(f\"Name = {employee1.name.title()}\\nDesignation: {employee1.designation.title()}\\nSalary: {employee1.salary}\")"
   ]
  },
  {
   "cell_type": "code",
   "execution_count": 32,
   "id": "b0e8d1a5-ecb1-4243-a3fa-06add5fc2b54",
   "metadata": {},
   "outputs": [
    {
     "name": "stdout",
     "output_type": "stream",
     "text": [
      "Name: Ahsan\n",
      "Account Number: 3202334-094-009\n",
      "Balance: 100000\n",
      "Balance After Deposit: 101000\n",
      "Balance After Withdraw: 101000\n"
     ]
    }
   ],
   "source": [
    "# Question no. 8\n",
    "class Bank :\n",
    "    def __init__ (self, name, account_number, balance) :\n",
    "        self.name = name\n",
    "        self.account_number = account_number \n",
    "        self.balance = balance\n",
    "    def deposit (self, amount) :\n",
    "        if self.balance >= 0 :\n",
    "            self.balance += amount\n",
    "        else : \n",
    "            pass\n",
    "        return self.balance\n",
    "    \n",
    "    def withdraw (self, amount) :\n",
    "        if self.balance <= amount :\n",
    "            self.balance -= amount\n",
    "        else : \n",
    "            pass\n",
    "        return self.balance\n",
    "    \n",
    "user1 = Bank(\"Ahsan\", \"3202334-094-009\", 1_00_000)\n",
    "print(f\"Name: {user1.name.title()}\\nAccount Number: {user1.account_number}\\nBalance: {user1.balance}\")\n",
    "print(f\"Balance After Deposit: {user1.deposit(1_000)}\")\n",
    "print(f\"Balance After Withdraw: {user1.withdraw(5_000)}\")"
   ]
  }
 ],
 "metadata": {
  "kernelspec": {
   "display_name": "Python 3 (ipykernel)",
   "language": "python",
   "name": "python3"
  },
  "language_info": {
   "codemirror_mode": {
    "name": "ipython",
    "version": 3
   },
   "file_extension": ".py",
   "mimetype": "text/x-python",
   "name": "python",
   "nbconvert_exporter": "python",
   "pygments_lexer": "ipython3",
   "version": "3.12.4"
  }
 },
 "nbformat": 4,
 "nbformat_minor": 5
}
