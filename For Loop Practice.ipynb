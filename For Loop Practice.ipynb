{
 "cells": [
  {
   "cell_type": "code",
   "execution_count": null,
   "id": "0c6dcf34-9c9f-4873-8b81-ef2a67122d56",
   "metadata": {},
   "outputs": [],
   "source": [
    "#Question #01   List Iteration:\n",
    "Create a list of your favorite movies.\n",
    "Iterate over the list and print each movie title.\n",
    "Modify the loop to print the index of each movie along with its title."
   ]
  },
  {
   "cell_type": "code",
   "execution_count": 7,
   "id": "3d3d645b-2381-41d7-a961-28e8edb394ba",
   "metadata": {},
   "outputs": [
    {
     "name": "stdout",
     "output_type": "stream",
     "text": [
      "Men of Steel\n",
      "Matrix\n",
      "Max Steel\n",
      "The Dark Night\n",
      "Iron man\n",
      "\n",
      "Men Of Steel: 0\n",
      "Matrix: 1\n",
      "Max Steel: 2\n",
      "The Dark Night: 3\n",
      "Iron Man: 4\n"
     ]
    }
   ],
   "source": [
    "movies = [\"Men of Steel\", \"Matrix\", \"Max Steel\", \"The Dark Night\", \"Iron Man\"]\n",
    "for movie in movies :\n",
    "    print(movie)\n",
    "print()\n",
    "for movie in movies :\n",
    "    print(f\"{movie.title()}: {movies.index(movie)}\")\n"
   ]
  },
  {
   "cell_type": "code",
   "execution_count": null,
   "id": "fb3be1f5-342a-47fb-8cf2-a85d806baa2a",
   "metadata": {},
   "outputs": [],
   "source": [
    "#Question #02 String Iteration:\n",
    "Create a string variable containing your full name.\n",
    "Iterate over the string and print each character on a new line.\n",
    "Count the number of vowels in the string."
   ]
  },
  {
   "cell_type": "code",
   "execution_count": 9,
   "id": "0f5aff57-3de9-418a-a332-0336ce318d34",
   "metadata": {},
   "outputs": [
    {
     "name": "stdout",
     "output_type": "stream",
     "text": [
      "M\n",
      "u\n",
      "h\n",
      "a\n",
      "m\n",
      "m\n",
      "a\n",
      "d\n",
      " \n",
      "A\n",
      "h\n",
      "s\n",
      "a\n",
      "n\n",
      " \n",
      "S\n",
      "h\n",
      "a\n",
      "h\n",
      "z\n",
      "a\n",
      "d\n",
      "\n",
      "Number of vowels: 7\n"
     ]
    }
   ],
   "source": [
    "full_name = \"Muhammad Ahsan Shahzad\"\n",
    "vowels = [\"a\", \"e\", \"i\", \"o\", \"u\"]\n",
    "no_of_vowels = 0\n",
    "for char in full_name :\n",
    "    if char.lower() in vowels:\n",
    "        no_of_vowels += 1\n",
    "    print(char)\n",
    "print(f\"\\nNumber of vowels: {no_of_vowels}\")"
   ]
  },
  {
   "cell_type": "code",
   "execution_count": null,
   "id": "b99d2a1f-99a6-4cb1-8b37-4485497ee420",
   "metadata": {},
   "outputs": [],
   "source": [
    "#Question #03 Dictionary Iteration:\n",
    "Create a dictionary containing the names of students and their corresponding grades.\n",
    "Iterate over the dictionary and print the name and grade of each student.\n",
    "Find the student with the highest grade."
   ]
  },
  {
   "cell_type": "code",
   "execution_count": 11,
   "id": "bb26923d-1b3d-4787-a9ae-cbb0ef4dc092",
   "metadata": {},
   "outputs": [
    {
     "name": "stdout",
     "output_type": "stream",
     "text": [
      "Anas: 92\n",
      "Uzair: 85\n",
      "Waseem: 80\n",
      "Salman: 75\n",
      "\n",
      "Highest Grade: 92\n"
     ]
    }
   ],
   "source": [
    "grades = {\n",
    "    \"Anas\" : 92,\n",
    "    \"Uzair\" : 85,\n",
    "    \"Waseem\" : 80,\n",
    "    \"Salman\" : 75\n",
    "}\n",
    "for name, grade in grades.items() :\n",
    "    print(f\"{name.title()}: {grade}\")\n",
    "highest_grade = max(list(grades.values()))\n",
    "print(f\"\\nHighest Grade: {highest_grade}\")"
   ]
  },
  {
   "cell_type": "code",
   "execution_count": null,
   "id": "8c4bd650-fcb8-4f4d-9654-2e0a744d45c8",
   "metadata": {},
   "outputs": [],
   "source": [
    "#Question #04 Nested For Loops:\n",
    "Create a 2D list representing a matrix.\n",
    "Iterate over the matrix and print each element.\n",
    "Calculate the sum of all elements in the matrix."
   ]
  },
  {
   "cell_type": "code",
   "execution_count": 15,
   "id": "3b7bdd1c-faab-4576-89a6-76aa15944094",
   "metadata": {},
   "outputs": [
    {
     "name": "stdout",
     "output_type": "stream",
     "text": [
      "2 8 2 6 3 0 \n",
      "6 5 1 7 7 8 \n",
      "1 8 2 0 2 2 \n",
      "9 7 7 0 0 1 \n",
      "9 0 3 9 3 9 \n",
      "9 6 6 8 5 0 \n",
      "\n",
      "Sum: 161\n"
     ]
    }
   ],
   "source": [
    "import random\n",
    "height = 6\n",
    "width = 6\n",
    "Matrix = []\n",
    "Sum = 0\n",
    "for i in range(height) :\n",
    "    temp_list = []\n",
    "    for j in range(width) :\n",
    "        temp_list.append(int(random.randint(0,9)))\n",
    "    Matrix.append(temp_list)\n",
    "for row in Matrix :\n",
    "    for column in row :\n",
    "        Sum += column\n",
    "        print(f\"{column} \", end = \"\")\n",
    "    print()\n",
    "print(f\"\\nSum: {Sum}\")"
   ]
  },
  {
   "cell_type": "code",
   "execution_count": null,
   "id": "afb48395-f6b9-47cd-bd44-909b2c37084d",
   "metadata": {},
   "outputs": [],
   "source": [
    "#Question #05 List Comprehension:\n",
    "Create a list of squares of numbers from 1 to 10 using a for loop.\n",
    "Rewrite the same using list comprehension."
   ]
  },
  {
   "cell_type": "code",
   "execution_count": 19,
   "id": "16ee6733-1bc4-4c86-916e-e90031df1240",
   "metadata": {},
   "outputs": [
    {
     "name": "stdout",
     "output_type": "stream",
     "text": [
      "Using Loop:  [0, 1, 4, 9, 16, 25, 36, 49, 64, 81, 100]\n",
      "\n",
      "Using Comprehension:  [0, 1, 4, 9, 16, 25, 36, 49, 64, 81, 100]\n"
     ]
    }
   ],
   "source": [
    "limit = 10\n",
    "square_list_loop = []\n",
    "for i in range(0, limit + 1) :\n",
    "    square_list_loop.append(i * i)\n",
    "print(\"Using Loop: \", square_list_loop)\n",
    "square_list_comprehension = [i * i for i in range(0, limit + 1)]\n",
    "print(\"\\nUsing Comprehension: \", square_list_comprehension)"
   ]
  }
 ],
 "metadata": {
  "kernelspec": {
   "display_name": "Python 3 (ipykernel)",
   "language": "python",
   "name": "python3"
  },
  "language_info": {
   "codemirror_mode": {
    "name": "ipython",
    "version": 3
   },
   "file_extension": ".py",
   "mimetype": "text/x-python",
   "name": "python",
   "nbconvert_exporter": "python",
   "pygments_lexer": "ipython3",
   "version": "3.12.4"
  }
 },
 "nbformat": 4,
 "nbformat_minor": 5
}
