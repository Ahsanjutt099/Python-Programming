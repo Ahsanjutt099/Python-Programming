{
 "cells": [
  {
   "cell_type": "code",
   "execution_count": null,
   "id": "da63bb96-0e76-461d-a98e-160e876d0ced",
   "metadata": {},
   "outputs": [],
   "source": [
    "#Muhammad Ahsan Shahzad  Fa24-bbd-099"
   ]
  },
  {
   "cell_type": "code",
   "execution_count": 13,
   "id": "b1046f15",
   "metadata": {},
   "outputs": [],
   "source": [
    "# Question no. 1"
   ]
  },
  {
   "cell_type": "markdown",
   "id": "80b49bc9",
   "metadata": {},
   "source": [
    "# Function named greet_with_time that takes a name as input and prints a       greeting message along with the current time."
   ]
  },
  {
   "cell_type": "code",
   "execution_count": 2,
   "id": "046ee6e3",
   "metadata": {},
   "outputs": [
    {
     "name": "stdout",
     "output_type": "stream",
     "text": [
      "\n",
      "Hello, Ahsan!\n",
      "it is  2024-11-28 12:12:30.558014\n",
      "None\n"
     ]
    }
   ],
   "source": [
    "import datetime\n",
    "\n",
    "def greet_with_time(name):\n",
    "    print(\"\\nHello, \" + name + \"!\")\n",
    "    print(\"it is \", datetime.datetime.now())\n",
    "    \n",
    "print(greet_with_time(\"Ahsan\"))\n",
    "    \n",
    "  "
   ]
  },
  {
   "cell_type": "code",
   "execution_count": null,
   "id": "2abd1cd8",
   "metadata": {},
   "outputs": [],
   "source": [
    "#Question no. 2"
   ]
  },
  {
   "cell_type": "markdown",
   "id": "bf28568c",
   "metadata": {},
   "source": [
    "# function called calculate_average that takes three numbers as input and returns their average."
   ]
  },
  {
   "cell_type": "code",
   "execution_count": 4,
   "id": "5a91b7ac",
   "metadata": {},
   "outputs": [
    {
     "name": "stdout",
     "output_type": "stream",
     "text": [
      "378.6666666666667\n"
     ]
    }
   ],
   "source": [
    "def calculate_average(no1, no2, no3):\n",
    "    Sum = no1 + no2 + no3\n",
    "    average = Sum / 3\n",
    "    return average\n",
    "\n",
    "print(calculate_average(59,78,999))"
   ]
  },
  {
   "cell_type": "code",
   "execution_count": null,
   "id": "7c875cf0",
   "metadata": {},
   "outputs": [],
   "source": [
    "#Question no.3"
   ]
  },
  {
   "cell_type": "markdown",
   "id": "c1251052",
   "metadata": {},
   "source": [
    "# function calculate_discount that takes a price and a discount percentage as      input.      Set a default discount percentage of 10%."
   ]
  },
  {
   "cell_type": "code",
   "execution_count": 6,
   "id": "eaa212a4",
   "metadata": {},
   "outputs": [
    {
     "name": "stdout",
     "output_type": "stream",
     "text": [
      "720.0\n",
      "342.0\n"
     ]
    }
   ],
   "source": [
    "def calculate_discount(price, discount_percentage = 10):\n",
    "    discount_price = price * (discount_percentage / 100)\n",
    "    total_price = price - discount_price\n",
    "    return total_price\n",
    "\n",
    "print(calculate_discount(900,20))\n",
    "print(calculate_discount(380))"
   ]
  },
  {
   "cell_type": "code",
   "execution_count": 14,
   "id": "8d69f30c",
   "metadata": {},
   "outputs": [],
   "source": [
    "#Question no.4\n"
   ]
  },
  {
   "cell_type": "markdown",
   "id": "6b82b157",
   "metadata": {},
   "source": [
    "#  function print_info that takes a name, age, and city as keyword arguments"
   ]
  },
  {
   "cell_type": "code",
   "execution_count": 10,
   "id": "d7567353",
   "metadata": {},
   "outputs": [
    {
     "name": "stdout",
     "output_type": "stream",
     "text": [
      "Muhammad Ahsan Shahzad lives in Manga Mandi\n",
      "His age is 21\n",
      "None\n"
     ]
    }
   ],
   "source": [
    "def print_info(name, age, city):\n",
    "    print(name.title(), \"lives in\", city.title())\n",
    "    print(\"His age is\", age)\n",
    "    \n",
    "print(print_info(age = 21, name = \"Muhammad Ahsan Shahzad\", city = \"Manga Mandi\"))\n"
   ]
  },
  {
   "cell_type": "code",
   "execution_count": 16,
   "id": "f85580cb",
   "metadata": {},
   "outputs": [],
   "source": [
    "#Question no.5"
   ]
  },
  {
   "cell_type": "markdown",
   "id": "50c6afa2",
   "metadata": {},
   "source": [
    "#  function find_max that can take any number of arguments and returns the           maximum value"
   ]
  },
  {
   "cell_type": "code",
   "execution_count": 12,
   "id": "6678ad5d",
   "metadata": {},
   "outputs": [
    {
     "name": "stdout",
     "output_type": "stream",
     "text": [
      "Max: 457\n"
     ]
    }
   ],
   "source": [
    "def find_max(*numbers):\n",
    "    Max = max(numbers)\n",
    "    return Max\n",
    "\n",
    "print(\"Max:\", find_max(4,5,67,268,68,4,24,457))"
   ]
  },
  {
   "cell_type": "code",
   "execution_count": 15,
   "id": "105d867a",
   "metadata": {},
   "outputs": [],
   "source": [
    "#Question no.6\n"
   ]
  },
  {
   "cell_type": "markdown",
   "id": "f627acf1",
   "metadata": {},
   "source": [
    "# Implement a recursive function to calculate the factorial of a number"
   ]
  },
  {
   "cell_type": "code",
   "execution_count": 21,
   "id": "d1ff395a",
   "metadata": {},
   "outputs": [
    {
     "name": "stdout",
     "output_type": "stream",
     "text": [
      "Factorial: 815915283247897734345611269596115894272000000000\n"
     ]
    }
   ],
   "source": [
    "def factorial(number):\n",
    "    result = 1\n",
    "    if number > 0 :\n",
    "        result = number * factorial(number - 1)\n",
    "    return result\n",
    "print(\"Factorial:\", factorial(40))"
   ]
  },
  {
   "cell_type": "code",
   "execution_count": 22,
   "id": "39b57c7f",
   "metadata": {},
   "outputs": [],
   "source": [
    "#Question no.7\n"
   ]
  },
  {
   "cell_type": "markdown",
   "id": "36a39598",
   "metadata": {},
   "source": [
    "# function apply_function that takes a function and a list of numbers as input. Apply the function to each number in the list and return a new list with the results.¶"
   ]
  },
  {
   "cell_type": "code",
   "execution_count": 10,
   "id": "ecd5ae1b-dff1-4650-8434-0c9700797bb3",
   "metadata": {},
   "outputs": [
    {
     "name": "stdout",
     "output_type": "stream",
     "text": [
      "[2, 4, 6, 8]\n"
     ]
    }
   ],
   "source": [
    "def apply_function(func, numbers):\n",
    "    return [func(num) for num in numbers]\n",
    "\n",
    "def double(x):\n",
    "    return x * 2\n",
    "\n",
    "nums = [1, 2, 3, 4]\n",
    "result = apply_function(double, nums)\n",
    "print(result)\n"
   ]
  },
  {
   "cell_type": "code",
   "execution_count": null,
   "id": "9b4c47fe-ff0c-4425-bcdb-a017fa0a419e",
   "metadata": {},
   "outputs": [],
   "source": [
    "#Question no.8"
   ]
  },
  {
   "cell_type": "code",
   "execution_count": null,
   "id": "93b3ba96-34a8-4759-9733-a651c2394cce",
   "metadata": {},
   "outputs": [],
   "source": [
    "#Lambda Functions:\n",
    "Create a lambda function to square a number."
   ]
  },
  {
   "cell_type": "code",
   "execution_count": 1,
   "id": "19aeb0ed",
   "metadata": {},
   "outputs": [
    {
     "name": "stdout",
     "output_type": "stream",
     "text": [
      "16\n",
      "49\n"
     ]
    }
   ],
   "source": [
    "def square(x):\n",
    "    return x ** 2\n",
    "\n",
    "print(square(4))\n",
    "print(square(7))\n"
   ]
  },
  {
   "cell_type": "raw",
   "id": "481fee64-0712-4892-b790-2a20bb180748",
   "metadata": {},
   "source": [
    "#Question no.9"
   ]
  },
  {
   "cell_type": "code",
   "execution_count": null,
   "id": "f14cf14c-5f50-4f0b-a4e5-81ae7a6c9593",
   "metadata": {},
   "outputs": [],
   "source": [
    "#Higher-Order Functions:\n",
    "Write a function apply_operation that takes a function and a list of numbers. Apply the function to each number and return a new list."
   ]
  },
  {
   "cell_type": "code",
   "execution_count": 5,
   "id": "28bd3b84-9ca7-4e66-a1b2-47ba06642e27",
   "metadata": {},
   "outputs": [
    {
     "name": "stdout",
     "output_type": "stream",
     "text": [
      "[1, 4, 9, 16]\n"
     ]
    }
   ],
   "source": [
    "def apply_operation(func, numbers):\n",
    "    return [func(num) for num in numbers]\n",
    "\n",
    "def square(x):\n",
    "    return x ** 2\n",
    "\n",
    "nums = [1, 2, 3, 4]\n",
    "result = apply_operation(square, nums)\n",
    "print(result)\n"
   ]
  },
  {
   "cell_type": "code",
   "execution_count": null,
   "id": "a60ebed0-809a-428c-916e-5009ae0b6aa9",
   "metadata": {},
   "outputs": [],
   "source": [
    "#Question no.10"
   ]
  },
  {
   "cell_type": "code",
   "execution_count": 12,
   "id": "daa294e9-77ea-4e99-ba03-39488cf07084",
   "metadata": {},
   "outputs": [],
   "source": [
    "#Implement a decorator to measure the execution time of a function.\n"
   ]
  },
  {
   "cell_type": "code",
   "execution_count": 7,
   "id": "d45eb80b-1f3f-4026-bc81-c1a999633d96",
   "metadata": {},
   "outputs": [
    {
     "name": "stdout",
     "output_type": "stream",
     "text": [
      "Execution time: 0.2413 seconds\n"
     ]
    },
    {
     "data": {
      "text/plain": [
       "499999500000"
      ]
     },
     "execution_count": 7,
     "metadata": {},
     "output_type": "execute_result"
    }
   ],
   "source": [
    "import time\n",
    "\n",
    "def measure_execution_time(func):\n",
    "    def wrapper(*args, **kwargs):\n",
    "        start = time.time()\n",
    "        result = func(*args, **kwargs)\n",
    "        end = time.time()\n",
    "        print(f\"Execution time: {end - start:.4f} seconds\")\n",
    "        return result\n",
    "    return wrapper\n",
    "\n",
    "@measure_execution_time\n",
    "def sample_function():\n",
    "    total = 0\n",
    "    for i in range(1000000):\n",
    "        total += i\n",
    "    return total\n",
    "\n",
    "sample_function()\n"
   ]
  }
 ],
 "metadata": {
  "kernelspec": {
   "display_name": "Python 3 (ipykernel)",
   "language": "python",
   "name": "python3"
  },
  "language_info": {
   "codemirror_mode": {
    "name": "ipython",
    "version": 3
   },
   "file_extension": ".py",
   "mimetype": "text/x-python",
   "name": "python",
   "nbconvert_exporter": "python",
   "pygments_lexer": "ipython3",
   "version": "3.12.4"
  }
 },
 "nbformat": 4,
 "nbformat_minor": 5
}
