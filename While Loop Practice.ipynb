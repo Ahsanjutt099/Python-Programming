{
 "cells": [
  {
   "cell_type": "code",
   "execution_count": null,
   "id": "7e30ff05-8f8b-414f-b9c8-24e823c676f2",
   "metadata": {},
   "outputs": [],
   "source": [
    "1. Counting with While Loop  \n",
    "   Write a program that uses a while loop to count from 1 to 10 and print each number.\n",
    "\n",
    "2. Even Numbers  \n",
    "   Create a while loop to print all even numbers from 1 to 20.\n",
    "\n",
    "3. Sum of Natural Numbers\n",
    "   Write a program using a while loop to calculate the sum of the first 10 natural numbers.\n",
    "\n",
    "4. User Input with Condition  \n",
    "   Write a program that prompts the user to enter numbers. The loop should keep asking for numbers until the user enters a negative number. When the loop exits, print the total sum of the numbers entered (excluding the negative number).\n",
    "\n",
    "5. Number Guessing Game  \n",
    "   Create a guessing game where the user has to guess a number between 1 and 100. Use a while loop to allow the user to keep guessing until they get it right. Provide hints if the guess is too high or too low.\n",
    "\n",
    "6. Factorial Calculation\n",
    "   Write a program to calculate the factorial of a given positive integer using a while loop.\n",
    "\n",
    "7. Average Calculator\n",
    "   Write a program that uses a while loop to take in a series of numbers from the user. The loop should stop when the user enters \"done\". Calculate and print the average of the entered numbers.\n",
    "\n",
    "8. Fibonacci Sequence  \n",
    "   Using a while loop, print the Fibonacci sequence up to a specified number n (where n is an integer input by the user)."
   ]
  },
  {
   "cell_type": "code",
   "execution_count": null,
   "id": "ae1ca277-55c4-4469-904a-8698c976b011",
   "metadata": {},
   "outputs": [],
   "source": [
    "#Question #01 Counting with While Loop\n",
    " Write a program that uses a while loop to count from 1 to 10 and print each number."
   ]
  },
  {
   "cell_type": "code",
   "execution_count": 1,
   "id": "1c190034-11a7-4745-a920-7f8777a11924",
   "metadata": {},
   "outputs": [
    {
     "name": "stdout",
     "output_type": "stream",
     "text": [
      "1\n",
      "2\n",
      "3\n",
      "4\n",
      "5\n",
      "6\n",
      "7\n",
      "8\n",
      "9\n",
      "10\n"
     ]
    }
   ],
   "source": [
    "number = 1\n",
    "while number <= 10 :\n",
    "    print(number)\n",
    "    number += 1"
   ]
  },
  {
   "cell_type": "code",
   "execution_count": null,
   "id": "2b6eddde-2ff3-445c-b771-2f8a8dcf5340",
   "metadata": {},
   "outputs": [],
   "source": [
    "#Question #02 Even Numbers\n",
    "Create a while loop to print all even numbers from 1 to 20."
   ]
  },
  {
   "cell_type": "code",
   "execution_count": 3,
   "id": "73fc33d9-4ff6-4ed3-9622-6ca915ed35f0",
   "metadata": {},
   "outputs": [
    {
     "name": "stdout",
     "output_type": "stream",
     "text": [
      "2\n",
      "4\n",
      "6\n",
      "8\n",
      "10\n",
      "12\n",
      "14\n",
      "16\n",
      "18\n",
      "20\n"
     ]
    }
   ],
   "source": [
    "even_number = 2\n",
    "while even_number <= 20 :\n",
    "    print(even_number)\n",
    "    even_number += 2"
   ]
  },
  {
   "cell_type": "code",
   "execution_count": null,
   "id": "158fb71f-b596-4f30-8390-e12ba461af5f",
   "metadata": {},
   "outputs": [],
   "source": [
    "#Question #03 Sum of Natural Numbers\n",
    "Write a program using a while loop to calculate the sum of the first 10 natural numbers.\n"
   ]
  },
  {
   "cell_type": "code",
   "execution_count": 5,
   "id": "7c783b54-723a-44f3-a391-1073fa5d4128",
   "metadata": {},
   "outputs": [
    {
     "name": "stdout",
     "output_type": "stream",
     "text": [
      "Sum of Natural Number: 55\n"
     ]
    }
   ],
   "source": [
    "number = 1\n",
    "sum_of_natural = 0\n",
    "while number <= 10:\n",
    "    sum_of_natural += number\n",
    "    number += 1\n",
    "print(f\"Sum of Natural Number: {sum_of_natural}\")"
   ]
  },
  {
   "cell_type": "code",
   "execution_count": null,
   "id": "2582671c-e69b-4afd-94bf-677d2f39a842",
   "metadata": {},
   "outputs": [],
   "source": [
    "#Question #04 User Input with Condition  \n",
    "Write a program that prompts the user to enter numbers. \n",
    "The loop should keep asking for numbers until the user enters a negative number. \n",
    "When the loop exits, print the total sum of the numbers entered (excluding the negative number).\n"
   ]
  },
  {
   "cell_type": "code",
   "execution_count": 7,
   "id": "080ed480-f571-4341-a7f4-69607dff783b",
   "metadata": {},
   "outputs": [
    {
     "name": "stdout",
     "output_type": "stream",
     "text": [
      "Positive to Continue\n",
      "Negative to Exit\n"
     ]
    },
    {
     "name": "stdin",
     "output_type": "stream",
     "text": [
      "Enter Numbers:  99\n",
      "Enter Numbers:  99\n",
      "Enter Numbers:  99\n",
      "Enter Numbers:  -99\n"
     ]
    },
    {
     "name": "stdout",
     "output_type": "stream",
     "text": [
      "\n",
      "Sum: 297\n"
     ]
    }
   ],
   "source": [
    "prompt_is_active = True\n",
    "prompt_sum = 0\n",
    "print(\"Positive to Continue\\nNegative to Exit\")\n",
    "while prompt_is_active:\n",
    "    prompt_user_input = int(input(\"Enter Numbers: \"))\n",
    "    if prompt_user_input >= 0:\n",
    "        prompt_sum += prompt_user_input\n",
    "    elif prompt_user_input < 0:\n",
    "        prompt_is_active = False\n",
    "print(f\"\\nSum: {prompt_sum}\")"
   ]
  },
  {
   "cell_type": "code",
   "execution_count": null,
   "id": "aee4442d-f947-4a9d-af19-158f4e5dd817",
   "metadata": {},
   "outputs": [],
   "source": [
    "#Question #05 Number Guessing Game  \n",
    "Create a guessing game where the user has to guess a number between 1 and 100. \n",
    "Use a while loop to allow the user to keep guessing until they get it right. \n",
    "Provide hints if the guess is too high or too low."
   ]
  },
  {
   "cell_type": "code",
   "execution_count": 1,
   "id": "57126b6b-5adf-424a-90ed-dc8e758a63db",
   "metadata": {},
   "outputs": [
    {
     "name": "stdout",
     "output_type": "stream",
     "text": [
      "Guess Number\n"
     ]
    },
    {
     "name": "stdin",
     "output_type": "stream",
     "text": [
      "Enter Number:  50\n"
     ]
    },
    {
     "name": "stdout",
     "output_type": "stream",
     "text": [
      "High\n"
     ]
    },
    {
     "name": "stdin",
     "output_type": "stream",
     "text": [
      "Enter Number:  40\n"
     ]
    },
    {
     "name": "stdout",
     "output_type": "stream",
     "text": [
      "High\n"
     ]
    },
    {
     "name": "stdin",
     "output_type": "stream",
     "text": [
      "Enter Number:  30\n"
     ]
    },
    {
     "name": "stdout",
     "output_type": "stream",
     "text": [
      "High\n"
     ]
    },
    {
     "name": "stdin",
     "output_type": "stream",
     "text": [
      "Enter Number:  0\n"
     ]
    },
    {
     "name": "stdout",
     "output_type": "stream",
     "text": [
      "Low\n"
     ]
    },
    {
     "name": "stdin",
     "output_type": "stream",
     "text": [
      "Enter Number:  20\n"
     ]
    },
    {
     "name": "stdout",
     "output_type": "stream",
     "text": [
      "High\n"
     ]
    },
    {
     "name": "stdin",
     "output_type": "stream",
     "text": [
      "Enter Number:  10\n"
     ]
    },
    {
     "name": "stdout",
     "output_type": "stream",
     "text": [
      "High\n"
     ]
    },
    {
     "name": "stdin",
     "output_type": "stream",
     "text": [
      "Enter Number:  9\n"
     ]
    },
    {
     "name": "stdout",
     "output_type": "stream",
     "text": [
      "High\n"
     ]
    },
    {
     "name": "stdin",
     "output_type": "stream",
     "text": [
      "Enter Number:  7\n"
     ]
    },
    {
     "name": "stdout",
     "output_type": "stream",
     "text": [
      "High\n"
     ]
    },
    {
     "name": "stdin",
     "output_type": "stream",
     "text": [
      "Enter Number:  6\n"
     ]
    },
    {
     "name": "stdout",
     "output_type": "stream",
     "text": [
      "High\n"
     ]
    },
    {
     "name": "stdin",
     "output_type": "stream",
     "text": [
      "Enter Number:  6\n"
     ]
    },
    {
     "name": "stdout",
     "output_type": "stream",
     "text": [
      "High\n"
     ]
    },
    {
     "name": "stdin",
     "output_type": "stream",
     "text": [
      "Enter Number:  4\n"
     ]
    },
    {
     "name": "stdout",
     "output_type": "stream",
     "text": [
      "Low\n"
     ]
    },
    {
     "name": "stdin",
     "output_type": "stream",
     "text": [
      "Enter Number:  8\n"
     ]
    },
    {
     "name": "stdout",
     "output_type": "stream",
     "text": [
      "High\n"
     ]
    },
    {
     "name": "stdin",
     "output_type": "stream",
     "text": [
      "Enter Number:  5\n"
     ]
    },
    {
     "name": "stdout",
     "output_type": "stream",
     "text": [
      "You Won\n",
      "Number is 5\n"
     ]
    }
   ],
   "source": [
    "import random\n",
    "\n",
    "guess_number = random.randint(1, 100)\n",
    "game_is_active = True\n",
    "print(\"Guess Number\")\n",
    "while game_is_active :\n",
    "    game_user_input = int(input(\"Enter Number: \"))\n",
    "    if game_user_input > guess_number :\n",
    "        print(\"High\")\n",
    "    elif game_user_input < guess_number :\n",
    "        print(\"Low\")\n",
    "    elif game_user_input == guess_number :\n",
    "        game_is_active = False\n",
    "print(f\"You Won\\nNumber is {guess_number}\")"
   ]
  },
  {
   "cell_type": "code",
   "execution_count": null,
   "id": "6f9ac082-1911-4f03-84e2-a2542981874e",
   "metadata": {},
   "outputs": [],
   "source": [
    "#Question #06\n",
    "Factorial Calculation\n",
    "Write a program to calculate the factorial of a given positive integer using a while loop.\n"
   ]
  },
  {
   "cell_type": "code",
   "execution_count": 7,
   "id": "2804038f-0db1-488e-8baa-49f8b13b130a",
   "metadata": {},
   "outputs": [
    {
     "name": "stdin",
     "output_type": "stream",
     "text": [
      "Enter Number:  18\n"
     ]
    },
    {
     "name": "stdout",
     "output_type": "stream",
     "text": [
      "Factorial: 6402373705728000\n"
     ]
    }
   ],
   "source": [
    "user_input = int(input(\"Enter Number: \"))\n",
    "factorial = 1\n",
    "while user_input > 0:\n",
    "    factorial *= user_input\n",
    "    user_input -= 1\n",
    "print(f\"Factorial: {factorial}\")"
   ]
  },
  {
   "cell_type": "code",
   "execution_count": null,
   "id": "0ebd8128-490a-4030-8483-a30f02e0f9ad",
   "metadata": {},
   "outputs": [],
   "source": [
    "#Question #07 Average Calculator\n",
    "Write a program that uses a while loop to take in a series of numbers from the user.\n",
    "The loop should stop when the user enters \"done\". \n",
    "Calculate and print the average of the entered numbers."
   ]
  },
  {
   "cell_type": "code",
   "execution_count": 11,
   "id": "d6c70402-97df-44ab-a626-479c5a10b691",
   "metadata": {},
   "outputs": [
    {
     "name": "stdout",
     "output_type": "stream",
     "text": [
      "Enter Number to Calculate Average\n",
      "Enter 'done' to Exit\n"
     ]
    },
    {
     "name": "stdin",
     "output_type": "stream",
     "text": [
      "Enter:  40\n",
      "Enter:  40\n",
      "Enter:  40\n",
      "Enter:  done\n"
     ]
    },
    {
     "name": "stdout",
     "output_type": "stream",
     "text": [
      "Average: 40.0\n"
     ]
    }
   ],
   "source": [
    "Series_is_active = True\n",
    "Series_sum = 0\n",
    "Series_numbers = 0\n",
    "print(\"Enter Number to Calculate Average\\nEnter 'done' to Exit\")\n",
    "while Series_is_active :\n",
    "    Series_input = input(\"Enter: \")\n",
    "    if Series_input.lower() == \"done\" :\n",
    "        Series_is_active = False\n",
    "    else:\n",
    "        Series_sum += int(Series_input)\n",
    "        Series_numbers += 1\n",
    "print(f\"Average: {Series_sum/Series_numbers}\")"
   ]
  },
  {
   "cell_type": "code",
   "execution_count": null,
   "id": "986f3c15-8a93-4cd3-951c-a03d546454d2",
   "metadata": {},
   "outputs": [],
   "source": [
    "#Question #08 Fibonacci Sequence  \n",
    "Using a while loop, print the Fibonacci sequence up to a specified number n (where n is an integer input by the user)."
   ]
  },
  {
   "cell_type": "code",
   "execution_count": 13,
   "id": "f2ea45ae-e406-447d-a58a-7ce58bc5bffd",
   "metadata": {},
   "outputs": [
    {
     "name": "stdin",
     "output_type": "stream",
     "text": [
      "Enter the limit :  99\n"
     ]
    },
    {
     "name": "stdout",
     "output_type": "stream",
     "text": [
      "1\n",
      "1\n",
      "2\n",
      "3\n",
      "5\n",
      "8\n",
      "13\n",
      "21\n",
      "34\n",
      "55\n",
      "89\n"
     ]
    }
   ],
   "source": [
    "fibonnaci = 0\n",
    "number = 0\n",
    "next_number = 1\n",
    "limit = int(input(\"Enter the limit : \"))\n",
    "i = 0\n",
    "while i < limit :\n",
    "    fibonnaci = number + next_number\n",
    "    next_number = number\n",
    "    number = fibonnaci\n",
    "    if(fibonnaci < limit) :\n",
    "        print(fibonnaci)\n",
    "    i = fibonnaci"
   ]
  }
 ],
 "metadata": {
  "kernelspec": {
   "display_name": "Python 3 (ipykernel)",
   "language": "python",
   "name": "python3"
  },
  "language_info": {
   "codemirror_mode": {
    "name": "ipython",
    "version": 3
   },
   "file_extension": ".py",
   "mimetype": "text/x-python",
   "name": "python",
   "nbconvert_exporter": "python",
   "pygments_lexer": "ipython3",
   "version": "3.12.4"
  }
 },
 "nbformat": 4,
 "nbformat_minor": 5
}
