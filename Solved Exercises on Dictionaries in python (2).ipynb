{
 "cells": [
  {
   "cell_type": "markdown",
   "id": "8e9722aa-d3bb-4bce-8596-b0b7db178b4c",
   "metadata": {},
   "source": [
    "Solved Exercises on Dictionaries in Python"
   ]
  },
  {
   "cell_type": "code",
   "execution_count": null,
   "id": "cfa5c0ff-816c-485c-9030-e510dd92c286",
   "metadata": {},
   "outputs": [],
   "source": [
    "#Muhammad Ahsan Shahzad    Reg no:FA24-BBD-099     BDA (A)"
   ]
  },
  {
   "cell_type": "code",
   "execution_count": 7,
   "id": "55c80f7a-a12b-4794-9735-5849b8b98cba",
   "metadata": {},
   "outputs": [],
   "source": [
    "dictionary = {\"name\": \"muhammad ahsan shahzad\", \"age\":21, \"city\": \"manga mandi\", \"Hobbies\": \"Travelling\"}\n"
   ]
  },
  {
   "cell_type": "code",
   "execution_count": 10,
   "id": "34e2fce4-62f2-480f-a04b-1c9bf1e8a4fc",
   "metadata": {},
   "outputs": [
    {
     "name": "stdout",
     "output_type": "stream",
     "text": [
      "{'the': 1, 'count': 1, 'in': 1, 'of': 1, 'Write': 1, 'a': 2, 'words': 1, 'program': 1, 'given': 1, 'to': 1, 'frequency': 1}\n"
     ]
    }
   ],
   "source": [
    "text = \"Write a program to count the frequency of words in a given text.\"\n",
    "string = \"\"\n",
    "words = []\n",
    "frequency_of_words = {}\n",
    "for char in text :\n",
    "    if not char == \" \" :\n",
    "        string += char\n",
    "    elif char == \" \" :\n",
    "        words.append(string)\n",
    "        string = \"\"\n",
    "unique_words = set(words)\n",
    "for word in unique_words :\n",
    "    frequency_of_words[word] = words.count(word)\n",
    "print(frequency_of_words)"
   ]
  },
  {
   "cell_type": "code",
   "execution_count": 12,
   "id": "270ad58e-0b46-493e-96cd-7f5672d7eb9d",
   "metadata": {},
   "outputs": [
    {
     "name": "stdout",
     "output_type": "stream",
     "text": [
      "Store: S\n",
      "Quit: Q\n"
     ]
    },
    {
     "name": "stdin",
     "output_type": "stream",
     "text": [
      "Enter Product Name:  Government Cola\n",
      "Enter number of units:  90\n",
      "Enter S/Q: S\n",
      "Enter Product Name:  Wagnor\n",
      "Enter number of units:  2\n",
      "Enter S/Q: s\n",
      "Enter Product Name:  Honda 125\n",
      "Enter number of units:  5\n",
      "Enter S/Q: Q\n"
     ]
    },
    {
     "name": "stdout",
     "output_type": "stream",
     "text": [
      "{'Government Cola': 90, 'Wagnor': 2, 'Honda 125': 5}\n"
     ]
    }
   ],
   "source": [
    "Inventory = {}\n",
    "print(\"Store: S\\nQuit: Q\")\n",
    "while True :\n",
    "    product = input(\"Enter Product Name: \")\n",
    "    units = int(input(\"Enter number of units: \"))\n",
    "    option = input(\"Enter S/Q:\").lower()\n",
    "    Inventory[product] = units\n",
    "    if option == \"q\" :\n",
    "        break\n",
    "print(Inventory)"
   ]
  },
  {
   "cell_type": "code",
   "execution_count": 14,
   "id": "a1b36d1e-4848-4ea0-9132-2c15cb85f5b7",
   "metadata": {},
   "outputs": [
    {
     "name": "stdout",
     "output_type": "stream",
     "text": [
      "Jets is one of most popular with 2100 units\n"
     ]
    }
   ],
   "source": [
    "customer_orders = {\"cars\": 1000,\"train\": 200,\"planes\": 900,\"jets\": 2100,\"rockets\": 400,\"bomb\": 100}\n",
    "Max = max(customer_orders.values())\n",
    "for category, units in customer_orders.items() :\n",
    "    if units == Max :\n",
    "        print(f\"{category.title()} is one of most popular with {units} units\")"
   ]
  },
  {
   "cell_type": "code",
   "execution_count": 18,
   "id": "9808c027-3797-4f8f-9f5e-9c3132c67420",
   "metadata": {},
   "outputs": [
    {
     "name": "stdout",
     "output_type": "stream",
     "text": [
      "Average: 86.0\n"
     ]
    }
   ],
   "source": [
    "student_grades = {\"English\" : 88,\"Urdu\" : 75,\"Math\" : 50,\"Phyiscs\"  : 95,\"Chemistry\" : 99,\"Tarjma tul Quran\" : 96,\"Pak Studies\" : 99}\n",
    "print(f\"Average: {sum(student_grades.values()) / (len(student_grades))}\")"
   ]
  },
  {
   "cell_type": "code",
   "execution_count": 20,
   "id": "79986253-b12e-4d3d-85a5-52b43a040313",
   "metadata": {},
   "outputs": [
    {
     "name": "stdout",
     "output_type": "stream",
     "text": [
      "Continue: C\n",
      "Quit: Q\n"
     ]
    },
    {
     "name": "stdin",
     "output_type": "stream",
     "text": [
      "Enter name of product: Jet\n",
      "Enter Units: 34\n",
      "Enter Price Per Unit: 22000000\n",
      "Enter name of product: plane\n",
      "Enter Units: 23\n",
      "Enter Price Per Unit: 2000000\n",
      "Enter name of product: q\n"
     ]
    },
    {
     "name": "stdout",
     "output_type": "stream",
     "text": [
      "Update Product Quantities\n",
      "Skip: S\n"
     ]
    },
    {
     "name": "stdin",
     "output_type": "stream",
     "text": [
      "Jet:  s\n",
      "Plane:  24\n",
      "Enter plane units:  557\n"
     ]
    },
    {
     "name": "stdout",
     "output_type": "stream",
     "text": [
      "Valuation: 794000000\n"
     ]
    }
   ],
   "source": [
    "Inventory = {}\n",
    "low_stock = 10\n",
    "print(\"Continue: C\\nQuit: Q\")\n",
    "information = [\"units\", \"price per unit\", \"price\"]\n",
    "\n",
    "while True :\n",
    "    name = input(\"Enter name of product:\").lower()\n",
    "    if name == \"q\" :\n",
    "      break\n",
    "    temp_dict = {}\n",
    "    for info in information :\n",
    "        if not info == \"price\" :\n",
    "            temp_var = int(input(f\"Enter {info.title()}:\"))\n",
    "            temp_dict[f\"{info}\"] = temp_var\n",
    "        else :\n",
    "            temp_dict[\"price\"] = temp_dict[\"units\"] * temp_dict[\"price per unit\"]\n",
    "        Inventory[name] = temp_dict\n",
    "\n",
    "print(\"Update Product Quantities\\nSkip: S\")\n",
    "for category in Inventory.keys() :\n",
    "    if not input(f\"{category.title()}: \").lower() == \"s\" :\n",
    "        Inventory[category][\"units\"] = input(f\"Enter {category} units: \")\n",
    "\n",
    "value = 0\n",
    "for info in Inventory.values() :\n",
    "    value += info[\"price\"]\n",
    "print(f\"Valuation: {value}\")\n",
    "\n",
    "for name, info in Inventory.items() :\n",
    "    if int(info[\"units\"]) <= low_stock :\n",
    "        print(f\"{name.title()} has low stock\")"
   ]
  },
  {
   "cell_type": "code",
   "execution_count": 22,
   "id": "531cff00-2709-45b6-a5a3-c70f1fd524fb",
   "metadata": {},
   "outputs": [
    {
     "name": "stdout",
     "output_type": "stream",
     "text": [
      "Continue: C\n",
      "Quit: Q\n"
     ]
    },
    {
     "name": "stdin",
     "output_type": "stream",
     "text": [
      "Enter Student Name:  Muhammad Ahsan Shahzad\n",
      "Enter English:  98\n",
      "Enter Urdu:  89\n",
      "Enter Math:  85\n",
      "Enter Phyiscs:  54\n",
      "Enter Chemistry:  57\n",
      "Enter Tarjma Tul Quran:  57\n",
      "Enter Pak Studies:  57\n",
      "Enter Student Name:  Q\n"
     ]
    },
    {
     "name": "stdout",
     "output_type": "stream",
     "text": [
      "Average\n",
      "Muhammad Ahsan Shahzad: 71.0\n",
      "English:\n",
      "\tHighest: 98\n",
      "\tLowest: 98\n",
      "Urdu:\n",
      "\tHighest: 89\n",
      "\tLowest: 89\n",
      "Math:\n",
      "\tHighest: 85\n",
      "\tLowest: 85\n",
      "Phyiscs:\n",
      "\tHighest: 54\n",
      "\tLowest: 54\n",
      "Chemistry:\n",
      "\tHighest: 57\n",
      "\tLowest: 57\n",
      "Tarjma Tul Quran:\n",
      "\tHighest: 57\n",
      "\tLowest: 57\n",
      "Pak Studies:\n",
      "\tHighest: 57\n",
      "\tLowest: 57\n",
      "Muhammad Ahsan Shahzad: 71.0\n"
     ]
    }
   ],
   "source": [
    "student_grades = {}\n",
    "average_grades = {}\n",
    "subjects_grades = {}\n",
    "subjects = (\"English\", \"Urdu\", \"Math\", \"Phyiscs\", \"Chemistry\", \"Tarjma tul Quran\", \"Pak Studies\")\n",
    "print(\"Continue: C\\nQuit: Q\")\n",
    "for i in subjects :\n",
    "    subjects_grades[i] = []\n",
    "while True :\n",
    "    name = input(\"Enter Student Name: \").lower()\n",
    "    if name == \"q\" :\n",
    "        break\n",
    "    temp_dictionary = {}\n",
    "    for subject in subjects :\n",
    "        temp_var = int(input(f\"Enter {subject.title()}: \"))\n",
    "        temp_dictionary[subject] = temp_var\n",
    "        subjects_grades[subject].append(temp_var)\n",
    "    student_grades[name] = temp_dictionary\n",
    "    average_grades[name] = sum(student_grades[name].values()) / (len(student_grades[name]))\n",
    "\n",
    "print(\"Average\")\n",
    "for student, average in average_grades.items() :\n",
    "    print(f\"{student.title()}: {average}\")\n",
    "\n",
    "for subject, grades in subjects_grades.items() :\n",
    "    print(f\"{subject.title()}:\\n\\tHighest: {max(grades)}\\n\\tLowest: {min(grades)}\")\n",
    "for avr in sorted(average_grades.values(), reverse= True) :\n",
    "    for name in average_grades :\n",
    "        if average_grades[name] == avr :\n",
    "          print(f\"{name.title()}: {avr}\")"
   ]
  },
  {
   "cell_type": "code",
   "execution_count": 27,
   "id": "ba80cba2-6993-479e-b2c4-721e0a219a95",
   "metadata": {},
   "outputs": [
    {
     "name": "stdout",
     "output_type": "stream",
     "text": [
      "Laptop\n",
      "\tPrice: 999.99\n",
      "\tQuantity: 10\n",
      "Headphones\n",
      "\tPrice: 199.99\n",
      "\tQuantity: 50\n",
      "Smartphone\n",
      "\tPrice: 699.99\n",
      "\tQuantity: 30\n",
      "Keyboard\n",
      "\tPrice: 49.99\n",
      "\tQuantity: 100\n",
      "Chair\n",
      "\tPrice: 89.99\n",
      "\tQuantity: 25\n",
      "Desk\n",
      "\tPrice: 149.99\n",
      "\tQuantity: 15\n",
      "Table Lamp\n",
      "\tPrice: 29.99\n",
      "\tQuantity: 60\n",
      "Coffee Mug\n",
      "\tPrice: 12.99\n",
      "\tQuantity: 200\n",
      "Backpack\n",
      "\tPrice: 39.99\n",
      "\tQuantity: 80\n",
      "Notebook\n",
      "\tPrice: 3.99\n",
      "\tQuantity: 500\n",
      "Pen\n",
      "\tPrice: 1.49\n",
      "\tQuantity: 1000\n",
      "Monitor\n",
      "\tPrice: 249.99\n",
      "\tQuantity: 20\n",
      "Printer\n",
      "\tPrice: 129.99\n",
      "\tQuantity: 10\n",
      "Wireless Mouse\n",
      "\tPrice: 19.99\n",
      "\tQuantity: 150\n",
      "Bluetooth Speaker\n",
      "\tPrice: 59.99\n",
      "\tQuantity: 40\n",
      "What you want to buy\n",
      "Add: A\n",
      "Remove: R\n",
      "Quit : Q\n"
     ]
    },
    {
     "name": "stdin",
     "output_type": "stream",
     "text": [
      "Enter Product Name:  Chair\n",
      "Enter Option:  a\n",
      "Enter units :  23\n",
      "Enter Product Name:  Q\n",
      "Enter Option:  Q\n"
     ]
    },
    {
     "name": "stdout",
     "output_type": "stream",
     "text": [
      "Total Price: 2069.77\n",
      "Discount: 103.4885\n",
      "Tax: 62.0931\n",
      "Final Price: 2028.3746\n"
     ]
    }
   ],
   "source": [
    "products = {\"laptop\": {\"price\": 999.99, \"quantity\": 10},\n",
    "    \"headphones\": {\"price\": 199.99, \"quantity\": 50},\n",
    "    \"smartphone\": {\"price\": 699.99, \"quantity\": 30},\n",
    "    \"keyboard\": {\"price\": 49.99, \"quantity\": 100},\n",
    "    \"chair\": {\"price\": 89.99, \"quantity\": 25},\n",
    "    \"desk\": {\"price\": 149.99, \"quantity\": 15},\n",
    "    \"table lamp\": {\"price\": 29.99, \"quantity\": 60},\n",
    "    \"coffee mug\": {\"price\": 12.99, \"quantity\": 200},\n",
    "    \"backpack\": {\"price\": 39.99, \"quantity\": 80},\n",
    "    \"notebook\": {\"price\": 3.99, \"quantity\": 500},\n",
    "    \"pen\": {\"price\": 1.49, \"quantity\": 1000},\n",
    "    \"monitor\": {\"price\": 249.99, \"quantity\": 20},\n",
    "    \"printer\": {\"price\": 129.99, \"quantity\": 10},\n",
    "    \"wireless mouse\": {\"price\": 19.99, \"quantity\": 150},\n",
    "    \"bluetooth speaker\": {\"price\": 59.99, \"quantity\": 40}\n",
    "}\n",
    "\n",
    "cart = {}\n",
    "total_price = 0\n",
    "discount = 5\n",
    "tax = 3\n",
    "\n",
    "for name, details in products.items() :\n",
    "    print(f\"{name.title()}\\n\\tPrice: {details['price']}\\n\\tQuantity: {details['quantity']}\")\n",
    "\n",
    "print(\"What you want to buy\\nAdd: A\\nRemove: R\\nQuit : Q\")\n",
    "while True :\n",
    "    name = input(\"Enter Product Name: \").lower()\n",
    "    option = input(\"Enter Option: \").lower()\n",
    "    if option == \"r\" :\n",
    "        del cart[name]\n",
    "    elif option == \"q\" :\n",
    "        break\n",
    "    else :\n",
    "        units = int(input(\"Enter units : \"))\n",
    "        cart[name] = units\n",
    "\n",
    "for name, units in cart.items() :\n",
    "    total_price += products[name][\"price\"] * units\n",
    "print(f\"Total Price: {total_price}\")\n",
    "print(f\"Discount: {total_price * (discount / 100)}\\nTax: {total_price * (tax / 100)}\\nFinal Price: {(total_price - total_price * (discount / 100)) + (total_price * (tax / 100))}\")"
   ]
  }
 ],
 "metadata": {
  "kernelspec": {
   "display_name": "Python 3 (ipykernel)",
   "language": "python",
   "name": "python3"
  },
  "language_info": {
   "codemirror_mode": {
    "name": "ipython",
    "version": 3
   },
   "file_extension": ".py",
   "mimetype": "text/x-python",
   "name": "python",
   "nbconvert_exporter": "python",
   "pygments_lexer": "ipython3",
   "version": "3.12.4"
  }
 },
 "nbformat": 4,
 "nbformat_minor": 5
}
