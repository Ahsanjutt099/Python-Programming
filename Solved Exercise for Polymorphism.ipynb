{
 "cells": [
  {
   "cell_type": "code",
   "execution_count": 1,
   "id": "00a3b301-f79b-4dd3-b7c2-bbd8fe3659d2",
   "metadata": {},
   "outputs": [
    {
     "name": "stdout",
     "output_type": "stream",
     "text": [
      "Shape: Triangle\n",
      "Color: Blue\n",
      " Area: 25.0\n",
      "\n",
      "Shape: Rectangle\n",
      "Color: Purple\n",
      " Area: 42\n",
      "\n",
      "Shape: Circle\n",
      "Color: Red\n",
      " Area: 706.85775\n",
      "\n"
     ]
    }
   ],
   "source": [
    "# Question 9\n",
    "\n",
    "\n",
    "class Shape :\n",
    "    def __init__ (self, color, shape_type) :\n",
    "        self.color = color\n",
    "        self.shape_type = shape_type\n",
    "    def area (self) :\n",
    "        area = 0\n",
    "        return area\n",
    "    def describe_shape (self) :\n",
    "        print(f\"Shape: {self.shape_type.title()}\\nColor: {self.color.title()}\")\n",
    "\n",
    "class Circle(Shape) :\n",
    "    def __init__ (self, color, radius, shape_type) :\n",
    "        super().__init__(color, shape_type)\n",
    "        self.radius = radius\n",
    "    def area (self) :\n",
    "        return (3.14159 * (self.radius ** 2))\n",
    "\n",
    "class Rectangle(Shape) :\n",
    "    def __init__ (self, color, length, width, shape_type) :\n",
    "        super().__init__(color, shape_type)\n",
    "        self.length = length\n",
    "        self.width = width\n",
    "    def area (self) :\n",
    "        return (self.width * self.length)\n",
    "    \n",
    "class Triangle(Shape) :\n",
    "    def __init__ (self, color, height, base, shape_type) :\n",
    "        super().__init__(color, shape_type)\n",
    "        self.height = height\n",
    "        self.base = base\n",
    "    def area (self) :\n",
    "        return ((self.height * self.base) *  (1/2))\n",
    "    \n",
    "triangle1 = Triangle(\"Blue\", 10, 5, \"Triangle\")\n",
    "rectangle1 = Rectangle(\"Purple\", 6, 7, \"Rectangle\")\n",
    "circle1 = Circle(\"Red\", 15, \"circle\")\n",
    "\n",
    "triangle1.describe_shape()\n",
    "print(f\" Area: {triangle1.area()}\\n\")\n",
    "rectangle1.describe_shape()\n",
    "print(f\" Area: {rectangle1.area()}\\n\")\n",
    "circle1.describe_shape()\n",
    "print(f\" Area: {circle1.area()}\\n\")"
   ]
  },
  {
   "cell_type": "code",
   "execution_count": 3,
   "id": "0b860a4c-6eb6-4fdf-991e-335aff460442",
   "metadata": {},
   "outputs": [
    {
     "name": "stdout",
     "output_type": "stream",
     "text": [
      "Husky Bao Bao's\n",
      "Garfield Meow Meow's\n",
      "Ayrshire Cattle Moo Moo's\n"
     ]
    }
   ],
   "source": [
    "# Question 10\n",
    "\n",
    "\n",
    "\n",
    "class Animal:\n",
    "    def __init__(self, name, sound = \"No Sound\"):\n",
    "        self.name = name\n",
    "        self.sound = sound\n",
    "    def make_sound(self):\n",
    "        print(f\"{self.name.title()} {self.sound.title()}'s\")\n",
    "\n",
    "class Dog (Animal) :\n",
    "    def __init__ (self, name, sound = \"bao bao\") :\n",
    "        super().__init__(name)\n",
    "        self.sound = sound\n",
    "    def make_sound(self):\n",
    "        print(f\"{self.name.title()} {self.sound.title()}'s\")\n",
    "\n",
    "class Cat (Animal) :\n",
    "    def __init__ (self, name, sound = \"meow meow\") :\n",
    "        super().__init__(name, sound)\n",
    "        self.sound = sound\n",
    "    def make_sound(self):\n",
    "        print(f\"{self.name.title()} {self.sound.title()}'s\")\n",
    "        \n",
    "class Cow (Animal) :\n",
    "    def __init__ (self, name, sound = \"moo moo\") :\n",
    "        super().__init__(name, sound)\n",
    "        self.sound = sound\n",
    "    def make_sound(self):\n",
    "        print(f\"{self.name.title()} {self.sound.title()}'s\")\n",
    "        \n",
    "dog1 = Dog(\"Husky\")\n",
    "cat1 = Cat(\"Garfield\")\n",
    "cow1 = Cow(\"Ayrshire cattle\")\n",
    "\n",
    "dog1.make_sound()\n",
    "cat1.make_sound()\n",
    "cow1.make_sound()"
   ]
  },
  {
   "cell_type": "code",
   "execution_count": null,
   "id": "fc98af4f-80b6-42e3-bc91-d23b50b9c21e",
   "metadata": {},
   "outputs": [],
   "source": []
  }
 ],
 "metadata": {
  "kernelspec": {
   "display_name": "Python 3 (ipykernel)",
   "language": "python",
   "name": "python3"
  },
  "language_info": {
   "codemirror_mode": {
    "name": "ipython",
    "version": 3
   },
   "file_extension": ".py",
   "mimetype": "text/x-python",
   "name": "python",
   "nbconvert_exporter": "python",
   "pygments_lexer": "ipython3",
   "version": "3.12.4"
  }
 },
 "nbformat": 4,
 "nbformat_minor": 5
}
